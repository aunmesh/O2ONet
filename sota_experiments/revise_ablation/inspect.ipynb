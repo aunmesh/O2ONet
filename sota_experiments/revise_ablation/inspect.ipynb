{
 "cells": [
  {
   "cell_type": "code",
   "execution_count": 10,
   "metadata": {},
   "outputs": [],
   "source": [
    "import pickle as pkl\n",
    "\n",
    "# folders = ['GPNN', 'imp', 'MLP', 'SQUAT']\n",
    "# folders = ['graph_rcnn']\n",
    "# folders = ['NENN', 'GraphTransformer', 'GPNN']\n",
    "\n",
    "# folders = ['hgat', 'imp', 'MLP', 'SQUAT']\n",
    "# folders += ['graph_rcnn']\n",
    "# folders += ['NENN', 'GraphTransformer', 'GPNN']\n",
    "\n",
    "folders = ['GPNN', 'graph_rcnn', 'NENN', 'hgat','imp', 'NENN', 'SQUAT', 'MLP', 'GraphTransformer']\n",
    "list_of_dicts = []\n",
    "\n",
    "for j in range(5):\n",
    "    new_data = {}\n",
    "    for f in folders:\n",
    "        f_ptr = open('/workspace/work/misc/O2ONet/sota_experiments/gnn_revise_resubmit_v3/logs/' + f + '/' + str(j) + '_log.pkl', 'rb')\n",
    "        data = pkl.load(f_ptr)\n",
    "        summ = data['summary_metrics']\n",
    "        temp_data = {}\n",
    "        for k in summ.keys():\n",
    "            if 'val_combined_mAP' in k:\n",
    "                temp_data[k] = summ[k].item()\n",
    "        new_data[f] = temp_data\n",
    "        f_ptr.close()\n",
    "        \n",
    "    list_of_dicts.append(new_data)"
   ]
  },
  {
   "cell_type": "code",
   "execution_count": 11,
   "metadata": {},
   "outputs": [],
   "source": [
    "# Initialize the result dictionary with 0 values.\n",
    "averaged_data = {outer_key: {inner_key: 0 for inner_key in list_of_dicts[0][outer_key]} for outer_key in list_of_dicts[0]}\n",
    "\n",
    "for dictionary in list_of_dicts:\n",
    "    for outer_key, inner_dict in dictionary.items():\n",
    "        for inner_key, value in inner_dict.items():\n",
    "            averaged_data[outer_key][inner_key] += value\n",
    "\n",
    "# Compute the average\n",
    "for outer_key, inner_dict in averaged_data.items():\n",
    "    for inner_key, value in inner_dict.items():\n",
    "        averaged_data[outer_key][inner_key] = value / len(list_of_dicts)\n"
   ]
  },
  {
   "cell_type": "code",
   "execution_count": 7,
   "metadata": {},
   "outputs": [
    {
     "data": {
      "text/plain": [
       "{'GPNN': {'Agg_val_combined_mAP_all': 0.8671658754348754,\n",
       "  'Agg_val_combined_mAP_mr': 0.7134651660919189,\n",
       "  'Agg_val_combined_mAP_lr': 0.9307550907135009,\n",
       "  'Agg_val_combined_mAP_cr': 0.9572772145271301},\n",
       " 'graph_rcnn': {'Agg_val_combined_mAP_all': 0.8103954315185546,\n",
       "  'Agg_val_combined_mAP_mr': 0.6065964818000793,\n",
       "  'Agg_val_combined_mAP_lr': 0.8876268744468689,\n",
       "  'Agg_val_combined_mAP_cr': 0.9369628071784973},\n",
       " 'NENN': {'Agg_val_combined_mAP_all': 0.8347478747367859,\n",
       "  'Agg_val_combined_mAP_mr': 0.6504806876182556,\n",
       "  'Agg_val_combined_mAP_lr': 0.9070490956306457,\n",
       "  'Agg_val_combined_mAP_cr': 0.9467138648033142},\n",
       " 'hgat': {'Agg_val_combined_mAP_all': 0.8422701358795166,\n",
       "  'Agg_val_combined_mAP_mr': 0.6550449848175048,\n",
       "  'Agg_val_combined_mAP_lr': 0.9159519672393799,\n",
       "  'Agg_val_combined_mAP_cr': 0.9558133721351624},\n",
       " 'imp': {'Agg_val_combined_mAP_all': 0.8432101130485534,\n",
       "  'Agg_val_combined_mAP_mr': 0.6539695382118225,\n",
       "  'Agg_val_combined_mAP_lr': 0.9169887185096741,\n",
       "  'Agg_val_combined_mAP_cr': 0.9586718678474426},\n",
       " 'SQUAT': {'Agg_val_combined_mAP_all': 0.8097239255905151,\n",
       "  'Agg_val_combined_mAP_mr': 0.6197732090950012,\n",
       "  'Agg_val_combined_mAP_lr': 0.8742533445358276,\n",
       "  'Agg_val_combined_mAP_cr': 0.9351451158523559}}"
      ]
     },
     "execution_count": 7,
     "metadata": {},
     "output_type": "execute_result"
    }
   ],
   "source": [
    "averaged_data"
   ]
  },
  {
   "cell_type": "code",
   "execution_count": 12,
   "metadata": {},
   "outputs": [
    {
     "name": "stdout",
     "output_type": "stream",
     "text": [
      "+------------------+---------+--------+--------+--------+\n",
      "|      Model       | mAP_all | mAP_mr | mAP_lr | mAP_cr |\n",
      "+------------------+---------+--------+--------+--------+\n",
      "|       GPNN       |  0.8672 | 0.7135 | 0.9308 | 0.9573 |\n",
      "|    graph_rcnn    |  0.8104 | 0.6066 | 0.8876 | 0.937  |\n",
      "|       NENN       |  0.8347 | 0.6505 | 0.907  | 0.9467 |\n",
      "|       hgat       |  0.8423 | 0.655  | 0.916  | 0.9558 |\n",
      "|       imp        |  0.8432 | 0.654  | 0.917  | 0.9587 |\n",
      "|      SQUAT       |  0.8097 | 0.6198 | 0.8743 | 0.9351 |\n",
      "|       MLP        |  0.8452 | 0.6692 | 0.9167 | 0.9496 |\n",
      "| GraphTransformer |  0.8516 | 0.6732 | 0.9322 | 0.9493 |\n",
      "+------------------+---------+--------+--------+--------+\n"
     ]
    }
   ],
   "source": [
    "from prettytable import PrettyTable\n",
    "\n",
    "data = averaged_data\n",
    "\n",
    "# Creating a table\n",
    "table = PrettyTable()\n",
    "\n",
    "# Modifying column names\n",
    "headers = [\"Model\", \"mAP_all\", \"mAP_mr\", \"mAP_lr\", \"mAP_cr\"]\n",
    "\n",
    "# Adding columns\n",
    "table.field_names = headers\n",
    "\n",
    "for model, metrics in data.items():\n",
    "    table.add_row([model, \n",
    "                   round(metrics['Agg_val_combined_mAP_all'], 4),\n",
    "                   round(metrics['Agg_val_combined_mAP_mr'], 4),\n",
    "                   round(metrics['Agg_val_combined_mAP_lr'], 4),\n",
    "                   round(metrics['Agg_val_combined_mAP_cr'], 4)])\n",
    "\n",
    "print(table)\n"
   ]
  },
  {
   "cell_type": "code",
   "execution_count": 14,
   "metadata": {},
   "outputs": [
    {
     "name": "stdout",
     "output_type": "stream",
     "text": [
      "+------------------+---------+--------+--------+--------+\n",
      "|      Model       | mAP_all | mAP_mr | mAP_lr | mAP_cr |\n",
      "+------------------+---------+--------+--------+--------+\n",
      "|       GPNN       |  0.8672 | 0.7135 | 0.9308 | 0.9573 |\n",
      "|    graph_rcnn    |  0.8104 | 0.6066 | 0.8876 | 0.937  |\n",
      "|       NENN       |  0.8347 | 0.6505 | 0.907  | 0.9467 |\n",
      "|       hgat       |  0.8423 | 0.655  | 0.916  | 0.9558 |\n",
      "|       imp        |  0.8432 | 0.654  | 0.917  | 0.9587 |\n",
      "|      SQUAT       |  0.8097 | 0.6198 | 0.8743 | 0.9351 |\n",
      "| GraphTransformer |  0.8516 | 0.6732 | 0.9322 | 0.9493 |\n",
      "+------------------+---------+--------+--------+--------+\n"
     ]
    }
   ],
   "source": [
    "from prettytable import PrettyTable\n",
    "\n",
    "data = averaged_data\n",
    "del data['MLP']\n",
    "# Creating a table\n",
    "table = PrettyTable()\n",
    "\n",
    "# Modifying column names\n",
    "headers = [\"Model\", \"mAP_all\", \"mAP_mr\", \"mAP_lr\", \"mAP_cr\"]\n",
    "\n",
    "# Adding columns\n",
    "table.field_names = headers\n",
    "\n",
    "for model, metrics in data.items():\n",
    "    table.add_row([model, \n",
    "                   round(metrics['Agg_val_combined_mAP_all'], 4),\n",
    "                   round(metrics['Agg_val_combined_mAP_mr'], 4),\n",
    "                   round(metrics['Agg_val_combined_mAP_lr'], 4),\n",
    "                   round(metrics['Agg_val_combined_mAP_cr'], 4)])\n",
    "\n",
    "print(table)\n"
   ]
  },
  {
   "cell_type": "code",
   "execution_count": null,
   "metadata": {},
   "outputs": [],
   "source": []
  }
 ],
 "metadata": {
  "kernelspec": {
   "display_name": "base",
   "language": "python",
   "name": "python3"
  },
  "language_info": {
   "codemirror_mode": {
    "name": "ipython",
    "version": 3
   },
   "file_extension": ".py",
   "mimetype": "text/x-python",
   "name": "python",
   "nbconvert_exporter": "python",
   "pygments_lexer": "ipython3",
   "version": "3.8.10"
  },
  "orig_nbformat": 4
 },
 "nbformat": 4,
 "nbformat_minor": 2
}
