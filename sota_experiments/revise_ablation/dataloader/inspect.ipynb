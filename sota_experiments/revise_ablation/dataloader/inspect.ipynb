{
 "cells": [
  {
   "cell_type": "code",
   "execution_count": 1,
   "metadata": {},
   "outputs": [],
   "source": [
    "import pickle\n",
    "\n",
    "with open('/workspace/data/data_folder/o2o/ral_features/formatted_features/revise_resubmit_nenn_sliced.pkl', 'rb') as f:\n",
    "    inspect = pickle.load(f)"
   ]
  },
  {
   "cell_type": "code",
   "execution_count": 8,
   "metadata": {},
   "outputs": [],
   "source": [
    "features_list = ['object_i3d_feature', 'bbox_CLIP', 'geometric_feature',\n",
    "                'object_semantic_embeddings', 'object_centric_shape_feats']\n",
    "\n",
    "relative_features_list = ['relative_spatial_feature', 'interaction_bbox_CLIP', \n",
    "                        'interaction_centric_shape_feats']\n"
   ]
  },
  {
   "cell_type": "code",
   "execution_count": 9,
   "metadata": {},
   "outputs": [
    {
     "name": "stdout",
     "output_type": "stream",
     "text": [
      "object_i3d_feature torch.Size([5, 12, 2048])\n",
      "bbox_CLIP torch.Size([12, 768])\n",
      "geometric_feature torch.Size([12, 11, 5])\n",
      "object_semantic_embeddings torch.Size([12, 300])\n",
      "object_centric_shape_feats torch.Size([12, 11, 9])\n",
      "    \n",
      "relative_spatial_feature torch.Size([12, 12, 11, 20])\n",
      "interaction_bbox_CLIP torch.Size([12, 12, 768])\n",
      "interaction_centric_shape_feats torch.Size([12, 12, 11, 9])\n"
     ]
    }
   ],
   "source": [
    "# inspect[0].keys()\n",
    "\n",
    "for f in features_list:\n",
    "    print(f, inspect[0][f].shape)\n",
    "\n",
    "print(\"    \")\n",
    "\n",
    "for f in relative_features_list:\n",
    "    print(f, inspect[0][f].shape)\n"
   ]
  },
  {
   "cell_type": "code",
   "execution_count": 11,
   "metadata": {},
   "outputs": [
    {
     "data": {
      "text/plain": [
       "1087"
      ]
     },
     "execution_count": 11,
     "metadata": {},
     "output_type": "execute_result"
    }
   ],
   "source": [
    "768 + 99 + 220"
   ]
  },
  {
   "cell_type": "code",
   "execution_count": null,
   "metadata": {},
   "outputs": [],
   "source": []
  }
 ],
 "metadata": {
  "kernelspec": {
   "display_name": "base",
   "language": "python",
   "name": "python3"
  },
  "language_info": {
   "codemirror_mode": {
    "name": "ipython",
    "version": 3
   },
   "file_extension": ".py",
   "mimetype": "text/x-python",
   "name": "python",
   "nbconvert_exporter": "python",
   "pygments_lexer": "ipython3",
   "version": "3.8.10"
  },
  "orig_nbformat": 4
 },
 "nbformat": 4,
 "nbformat_minor": 2
}
