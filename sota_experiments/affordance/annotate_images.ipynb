{
 "cells": [
  {
   "attachments": {},
   "cell_type": "markdown",
   "metadata": {},
   "source": [
    "### Experiment Outline\n",
    "\n",
    "The idea is to do Object-Object Affordance Recognition using Object-Object Interaction Categories only using Object-Object Interaction Categories.\n",
    "\n",
    "How do we recognize Object-Object Interactions\n",
    "\n",
    "We study the importance of O2O interactions for O2O affordance\n",
    "\n",
    "\n",
    "We identify the interactions and affordance relationship."
   ]
  },
  {
   "cell_type": "code",
   "execution_count": null,
   "metadata": {},
   "outputs": [],
   "source": [
    "gif_folder = '/workspace/data/data_folder/o2o/gifs_11'\n",
    "labels_file = '/workspace/work/misc/O2ONet/sota_experiments/action_recognition/labels.pkl'\n",
    "\n",
    "import pickle as pkl\n",
    "\n",
    "f = open(labels_file, 'rb')\n",
    "anno_data = pkl.load(f)\n",
    "f.close()"
   ]
  }
 ],
 "metadata": {
  "kernelspec": {
   "display_name": "base",
   "language": "python",
   "name": "python3"
  },
  "language_info": {
   "name": "python",
   "version": "3.8.10"
  },
  "orig_nbformat": 4,
  "vscode": {
   "interpreter": {
    "hash": "d4d1e4263499bec80672ea0156c357c1ee493ec2b1c70f0acce89fc37c4a6abe"
   }
  }
 },
 "nbformat": 4,
 "nbformat_minor": 2
}
