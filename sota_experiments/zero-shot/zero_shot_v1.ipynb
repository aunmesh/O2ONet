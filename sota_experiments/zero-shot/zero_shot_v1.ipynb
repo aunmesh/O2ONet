{
 "cells": [
  {
   "cell_type": "code",
   "execution_count": null,
   "metadata": {},
   "outputs": [],
   "source": [
    "assemble_cabinet = 'Assemble the base of the cabinet by connecting the side panels to the bottom panel using dowels and screws Ensure proper alignment and tighten the connections securely Attach the back panel to the assembled base by using screws or nails Ensure it is flush and aligned correctly Insert the shelves into the designated slots or brackets inside the cabinet Ensure they are level and secure Position the side panels against the base and back panel Secure them using dowels, screws, or other provided fasteners Use a level to ensure the cabinet remains straight and plumb Mount the top panel onto the assembled cabinet Secure it using screws or recommended fasteners Install the doors by attaching the hinges to the door panels Mount the doors onto the cabinet using the provided screws Adjust the doors as necessary for smooth opening and closing Install handles or knobs as desired Inspect all connections and make adjustments as needed Tighten all screws and fasteners properly to ensure stability Check that the cabinet is level Clean the cabinet surfaces with a cloth to remove dust or debris Remove any protective films or stickers Place the cabinet in its designated location for use'\n"
   ]
  },
  {
   "cell_type": "code",
   "execution_count": 31,
   "metadata": {},
   "outputs": [],
   "source": [
    "def synonym_tester(word1, word2):\n",
    "    '''\n",
    "    Checks if word1 is one of the synonyms of word2\n",
    "    '''\n",
    "    from nltk.corpus import wordnet\n",
    "    from nltk.stem.snowball import SnowballStemmer\n",
    "    stemmer = SnowballStemmer(\"english\")\n",
    "\n",
    "    word1_ = stemmer.stem(word1)\n",
    "    word2_ = stemmer.stem(word2)\n",
    "    \n",
    "    synonyms = []\n",
    "\n",
    "    for syn in wordnet.synsets(word2_):\n",
    "        for l in syn.lemmas():\n",
    "            synonyms.append(l.name())\n",
    "\n",
    "    if word1_ in synonyms:\n",
    "        return True\n",
    "    return False\n",
    "\n",
    "\n",
    "def full_function(passage, taxonomy_list):\n",
    "\n",
    "    from nltk.corpus import wordnet\n",
    "    from nltk.stem.snowball import SnowballStemmer\n",
    "    stemmer = SnowballStemmer(\"english\")\n",
    "\n",
    "    word_list = passage.split(' ')\n",
    "    filtered_words = []\n",
    "\n",
    "    for w in word_list:\n",
    "        temp = w.lower()\n",
    "        temp = stemmer.stem(w)\n",
    "\n",
    "        test=False\n",
    "\n",
    "        for a in taxonomy_list:\n",
    "            if synonym_tester(a, w):\n",
    "                filtered_words.append( w.lower() )\n",
    "                break\n",
    "    \n",
    "    return filtered_words"
   ]
  },
  {
   "cell_type": "code",
   "execution_count": 32,
   "metadata": {},
   "outputs": [
    {
     "name": "stdout",
     "output_type": "stream",
     "text": [
      "37\n"
     ]
    }
   ],
   "source": [
    "action_verb_list = ['Rotating', 'Turning', 'Pushing', 'Pulling', 'Lifting', 'Lowering', 'Swinging', 'Squeezing', 'Swaying',\n",
    "                    'Bending', 'Stretching', 'Flipping', 'Tossing', 'Tumbling', 'Spinning', 'Rolling', 'Shaking',\n",
    "                    'Vibrating', 'Gliding', 'Slipping']\n",
    "\n",
    "location_verbs = ['Near','Far','Next', 'Adjacent', 'top', 'Underneath','Beside', 'Alongside', 'Across',\n",
    "                  'Within','Outside', 'Surrounding', 'Above','Beneath','Beyond','Off', 'On', 'Towards',\n",
    "                  'Away','Against','Parallel','Facing','Proximal', 'Distal', 'Center', 'Periphery',\n",
    "                  'Bordering', 'edge', 'Inside', 'Outside']\n",
    "\n",
    "contact_words = ['Collide', 'Clasp', 'Strike', 'Touch', 'Brush', 'Join', \n",
    "                 'Intersect', 'Interact', 'Grasp', 'Merge', 'Fuse', 'Combine', 'Attach']\n",
    "\n",
    "passage = \"Gather the necessary tools Before starting gather the following tools a wrench adjustable or socket pliers and a screwdriver usually a flathead or Phillips Remove the old seat Locate the bolts attaching the seat to the toilet bowl These are typically located at the back of the seat underneath the bowl rim Depending on the model there may be either plastic caps or nuts covering the bolts Use your fingers or a pair of pliers to remove the caps or nuts exposing the bolts Loosen the bolts Use a wrench or pliers to grip the nuts on the underside of the bolts Turn the nuts counterclockwise to loosen them You may need to apply some force but be cautious not to overtighten or strip the bolts Remove the old seat Once the nuts are loose lift the old seat and lid assembly straight up off the toilet bowl disengaging it from the bolts Set it aside for disposal Clean the toilet bowl With the old seat removed take the opportunity to clean the toilet bowl and the area around the bolt holes using a mild cleaner or disinfectant Wipe dry with a clean cloth Position the new seat Take the new toilet seat and lid assembly and align it with the bolt holes on the toilet bowl Ensure the seat is facing the correct way with the lid in the back Insert the bolts Insert the bolts through the holes in the seat and the bowl from the top side guiding them through until they come out from the underside Secure the bolts Underneath the toilet bowl slide the plastic washers onto the bolts followed by the metal nuts Use your hand to tighten them initially and then use a wrench to further tighten them Be careful not to overtighten as it can crack the porcelain Check the alignment Make sure the seat is centered and aligned properly on the toilet bowl Adjust the position as necessary before fully tightening the bolts Tighten the bolts Using the wrench firmly tighten the nuts on the bolts until the seat feels secure and does not move or wobble Test the seat Gently press down on the seat and lid to ensure they are stable and properly attached Verify that the seat stays in position and doesnt slide or shift\"\n",
    "\n",
    "#taxonomy = action_verb_list + location_verbs + contact_words \n",
    "\n",
    "d = full_function( passage, action_verb_list + location_verbs )\n",
    "print(len(d))"
   ]
  },
  {
   "cell_type": "code",
   "execution_count": null,
   "metadata": {},
   "outputs": [],
   "source": [
    "d"
   ]
  },
  {
   "cell_type": "code",
   "execution_count": null,
   "metadata": {},
   "outputs": [],
   "source": [
    "def remove_words(word_list, remove_list):\n",
    "    \n",
    "    filtered_list = []\n",
    "    \n",
    "    for w in word_list:\n",
    "        if w not in remove_list:\n",
    "            filtered_list.append(w)\n",
    "    \n",
    "    return filtered_list\n"
   ]
  },
  {
   "cell_type": "code",
   "execution_count": null,
   "metadata": {},
   "outputs": [],
   "source": []
  }
 ],
 "metadata": {
  "kernelspec": {
   "display_name": "base",
   "language": "python",
   "name": "python3"
  },
  "language_info": {
   "codemirror_mode": {
    "name": "ipython",
    "version": 3
   },
   "file_extension": ".py",
   "mimetype": "text/x-python",
   "name": "python",
   "nbconvert_exporter": "python",
   "pygments_lexer": "ipython3",
   "version": "3.8.10"
  },
  "orig_nbformat": 4,
  "vscode": {
   "interpreter": {
    "hash": "d4d1e4263499bec80672ea0156c357c1ee493ec2b1c70f0acce89fc37c4a6abe"
   }
  }
 },
 "nbformat": 4,
 "nbformat_minor": 2
}
