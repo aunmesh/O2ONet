{
 "cells": [
  {
   "cell_type": "code",
   "execution_count": 7,
   "metadata": {},
   "outputs": [
    {
     "name": "stdout",
     "output_type": "stream",
     "text": [
      "dict_keys(['fold_0_train_loss_total', 'fold_0_train_loss_cr', 'fold_0_train_loss_mr', 'fold_0_train_loss_lr', 'fold_0_train_combined_mAP_all', 'fold_0_train_combined_mAP_mr', 'fold_0_train_combined_AP_Holding', 'fold_0_train_combined_AP_Carrying', 'fold_0_train_combined_AP_Adjusting', 'fold_0_train_combined_AP_Rubbing', 'fold_0_train_combined_AP_Sliding', 'fold_0_train_combined_AP_Rotating', 'fold_0_train_combined_AP_Twisting', 'fold_0_train_combined_AP_Raising', 'fold_0_train_combined_AP_Lowering', 'fold_0_train_combined_AP_Penetrating', 'fold_0_train_combined_AP_Moving Toward', 'fold_0_train_combined_AP_Moving Away', 'fold_0_train_combined_AP_Negligible Relative Motion', 'fold_0_train_combined_AP_None of these', 'fold_0_train_combined_mAP_lr', 'fold_0_train_combined_AP_Below/Above', 'fold_0_train_combined_AP_Behind/Front', 'fold_0_train_combined_AP_Left/Right', 'fold_0_train_combined_AP_Inside', 'fold_0_train_combined_mAP_cr', 'fold_0_train_combined_AP_Contact', 'fold_0_train_combined_AP_No Contact', 'fold_0_val_loss_total', 'fold_0_val_loss_cr', 'fold_0_val_loss_mr', 'fold_0_val_loss_lr', 'fold_0_val_combined_mAP_all', 'fold_0_val_combined_mAP_mr', 'fold_0_val_combined_AP_Holding', 'fold_0_val_combined_AP_Carrying', 'fold_0_val_combined_AP_Adjusting', 'fold_0_val_combined_AP_Rubbing', 'fold_0_val_combined_AP_Sliding', 'fold_0_val_combined_AP_Rotating', 'fold_0_val_combined_AP_Twisting', 'fold_0_val_combined_AP_Raising', 'fold_0_val_combined_AP_Lowering', 'fold_0_val_combined_AP_Penetrating', 'fold_0_val_combined_AP_Moving Toward', 'fold_0_val_combined_AP_Moving Away', 'fold_0_val_combined_AP_Negligible Relative Motion', 'fold_0_val_combined_AP_None of these', 'fold_0_val_combined_mAP_lr', 'fold_0_val_combined_AP_Below/Above', 'fold_0_val_combined_AP_Behind/Front', 'fold_0_val_combined_AP_Left/Right', 'fold_0_val_combined_AP_Inside', 'fold_0_val_combined_mAP_cr', 'fold_0_val_combined_AP_Contact', 'fold_0_val_combined_AP_No Contact'])\n",
      "Saved experiment data for fold 5\n"
     ]
    }
   ],
   "source": [
    "path = '/workspace/work/misc/O2ONet/sota_experiments/gnn_revise_resubmit_v3/executor/'\n",
    "import sys\n",
    "sys.path.append(path)\n",
    "\n",
    "import yaml\n",
    "import pickle\n",
    "import torch\n",
    "\n",
    "def config_loader(config_file_location):\n",
    "\n",
    "    f = open(config_file_location)\n",
    "    #config = yaml.load(f, Loader=yaml.FullLoader)\n",
    "    config = yaml.safe_load(f)\n",
    "    f.close()\n",
    "    config['device'] = torch.device(config['device'])\n",
    "    \n",
    "    if config['model_name'] == 'GPNN_icra':\n",
    "        num_frames = int(config['num_frames'])\n",
    "        config['edge_feature_size'] = 7 * num_frames\n",
    "\n",
    "    return config\n",
    "\n",
    "\n",
    "\n",
    "config_file = '/workspace/work/misc/O2ONet/sota_experiments/gnn_revise_resubmit_v3/configs/squat.yaml'\n",
    "\n",
    "config = config_loader(config_file)\n",
    "\n",
    "n_folds = 5\n",
    "config['num_folds'] = n_folds\n",
    "config['master_log_dir'] = '/workspace/work/misc/O2ONet/sota_experiments/gnn_revise_resubmit_v3/logs'\n",
    "config['split_file_id'] = 0\n",
    "\n",
    "from log_results import *\n",
    "logger = CrossValidationLogger(config)\n",
    "logger.load()\n",
    "logger.aggregate()\n",
    "logger.save()"
   ]
  },
  {
   "cell_type": "code",
   "execution_count": null,
   "metadata": {},
   "outputs": [],
   "source": []
  }
 ],
 "metadata": {
  "kernelspec": {
   "display_name": "base",
   "language": "python",
   "name": "python3"
  },
  "language_info": {
   "codemirror_mode": {
    "name": "ipython",
    "version": 3
   },
   "file_extension": ".py",
   "mimetype": "text/x-python",
   "name": "python",
   "nbconvert_exporter": "python",
   "pygments_lexer": "ipython3",
   "version": "3.8.10"
  },
  "orig_nbformat": 4
 },
 "nbformat": 4,
 "nbformat_minor": 2
}
