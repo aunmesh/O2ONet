{
 "cells": [
  {
   "cell_type": "code",
   "execution_count": 3,
   "metadata": {},
   "outputs": [
    {
     "name": "stdout",
     "output_type": "stream",
     "text": [
      "Agg_val_combined_mAP_all tensor(0.4014, device='cuda:3')\n",
      "Agg_val_combined_mAP_mr tensor(0.2652, device='cuda:3')\n",
      "Agg_val_combined_mAP_lr tensor(0.4635, device='cuda:3')\n",
      "Agg_val_combined_mAP_cr tensor(0.4754, device='cuda:3')\n",
      "Agg_val_combined_mAP_all tensor(0.3844, device='cuda:3')\n",
      "Agg_val_combined_mAP_mr tensor(0.2410, device='cuda:3')\n",
      "Agg_val_combined_mAP_lr tensor(0.4641, device='cuda:3')\n",
      "Agg_val_combined_mAP_cr tensor(0.4480, device='cuda:3')\n",
      "Agg_val_combined_mAP_all tensor(0.4065, device='cuda:3')\n",
      "Agg_val_combined_mAP_mr tensor(0.2695, device='cuda:3')\n",
      "Agg_val_combined_mAP_lr tensor(0.4720, device='cuda:3')\n",
      "Agg_val_combined_mAP_cr tensor(0.4779, device='cuda:3')\n"
     ]
    }
   ],
   "source": [
    "for i in range(3):\n",
    "    file_path = '/workspace/work/misc/O2ONet/sota_experiments/gnn_revise_resubmit_v2/logs/mfurln/' + str(i) + '_log.pkl'\n",
    "    import pickle as pkl\n",
    "\n",
    "    data = pkl.load(open(file_path, 'rb'))\n",
    "\n",
    "    for k in data['summary_metrics'].keys():\n",
    "        if 'mAP' in k and 'val' in k:\n",
    "            print(k, data['summary_metrics'][k])"
   ]
  }
 ],
 "metadata": {
  "kernelspec": {
   "display_name": "base",
   "language": "python",
   "name": "python3"
  },
  "language_info": {
   "codemirror_mode": {
    "name": "ipython",
    "version": 3
   },
   "file_extension": ".py",
   "mimetype": "text/x-python",
   "name": "python",
   "nbconvert_exporter": "python",
   "pygments_lexer": "ipython3",
   "version": "3.8.10"
  },
  "orig_nbformat": 4
 },
 "nbformat": 4,
 "nbformat_minor": 2
}
