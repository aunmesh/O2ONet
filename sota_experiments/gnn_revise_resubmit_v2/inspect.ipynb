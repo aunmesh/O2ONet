{
 "cells": [
  {
   "cell_type": "code",
   "execution_count": 26,
   "metadata": {},
   "outputs": [],
   "source": [
    "import pickle as pkl\n",
    "\n",
    "folders = ['GPNN', 'imp', 'MLP', 'SQUAT']\n",
    "\n",
    "list_of_dicts = []\n",
    "\n",
    "for j in range(5):\n",
    "    new_data = {}\n",
    "    for f in folders:\n",
    "        f_ptr = open('/workspace/work/misc/O2ONet/sota_experiments/gnn_revise_resubmit_v3/logs/' + f + '/' + str(j) + '_log.pkl', 'rb')\n",
    "        data = pkl.load(f_ptr)\n",
    "        summ = data['summary_metrics']\n",
    "        temp_data = {}\n",
    "        for k in summ.keys():\n",
    "            if 'val_combined_mAP' in k:\n",
    "                temp_data[k] = summ[k].item()\n",
    "        new_data[f] = temp_data\n",
    "        f_ptr.close()\n",
    "        \n",
    "    list_of_dicts.append(new_data)"
   ]
  },
  {
   "cell_type": "code",
   "execution_count": null,
   "metadata": {},
   "outputs": [],
   "source": [
    "# Initialize the result dictionary with 0 values.\n",
    "averaged_data = {outer_key: {inner_key: 0 for inner_key in list_of_dicts[0][outer_key]} for outer_key in list_of_dicts[0]}\n",
    "\n",
    "for dictionary in list_of_dicts:\n",
    "    for outer_key, inner_dict in dictionary.items():\n",
    "        for inner_key, value in inner_dict.items():\n",
    "            averaged_data[outer_key][inner_key] += value\n",
    "\n",
    "# Compute the average\n",
    "for outer_key, inner_dict in averaged_data.items():\n",
    "    for inner_key, value in inner_dict.items():\n",
    "        averaged_data[outer_key][inner_key] = value / len(list_of_dicts)\n",
    "\n",
    "print(averaged_data)"
   ]
  },
  {
   "cell_type": "code",
   "execution_count": 29,
   "metadata": {},
   "outputs": [
    {
     "name": "stdout",
     "output_type": "stream",
     "text": [
      "GPNN\n",
      "Agg_val_combined_mAP_all 0.8671658754348754\n",
      "Agg_val_combined_mAP_mr 0.7134651660919189\n",
      "Agg_val_combined_mAP_lr 0.9307550907135009\n",
      "Agg_val_combined_mAP_cr 0.9572772145271301\n",
      "imp\n",
      "Agg_val_combined_mAP_all 0.8432101130485534\n",
      "Agg_val_combined_mAP_mr 0.6539695382118225\n",
      "Agg_val_combined_mAP_lr 0.9169887185096741\n",
      "Agg_val_combined_mAP_cr 0.9586718678474426\n",
      "MLP\n",
      "Agg_val_combined_mAP_all 0.8451625227928161\n",
      "Agg_val_combined_mAP_mr 0.6691967248916626\n",
      "Agg_val_combined_mAP_lr 0.9166606783866882\n",
      "Agg_val_combined_mAP_cr 0.9496301174163818\n",
      "SQUAT\n",
      "Agg_val_combined_mAP_all 0.8097239255905151\n",
      "Agg_val_combined_mAP_mr 0.6197732090950012\n",
      "Agg_val_combined_mAP_lr 0.8742533445358276\n",
      "Agg_val_combined_mAP_cr 0.9351451158523559\n"
     ]
    }
   ],
   "source": [
    "for k in averaged_data.keys():\n",
    "    print(k)\n",
    "    for k2 in averaged_data[k]:\n",
    "        print(k2, averaged_data[k][k2]) "
   ]
  },
  {
   "cell_type": "code",
   "execution_count": null,
   "metadata": {},
   "outputs": [],
   "source": []
  }
 ],
 "metadata": {
  "kernelspec": {
   "display_name": "base",
   "language": "python",
   "name": "python3"
  },
  "language_info": {
   "codemirror_mode": {
    "name": "ipython",
    "version": 3
   },
   "file_extension": ".py",
   "mimetype": "text/x-python",
   "name": "python",
   "nbconvert_exporter": "python",
   "pygments_lexer": "ipython3",
   "version": "3.8.10"
  },
  "orig_nbformat": 4
 },
 "nbformat": 4,
 "nbformat_minor": 2
}
