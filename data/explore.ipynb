{
 "cells": [
  {
   "cell_type": "code",
   "execution_count": 12,
   "metadata": {},
   "outputs": [],
   "source": [
    "import pickle as pkl\n",
    "\n",
    "f = open('/workspace/work/O2ONet/data/annotations_minus_unavailable_yt_vids.pkl', 'rb')\n",
    "d = pkl.load(f)\n",
    "f.close()"
   ]
  },
  {
   "cell_type": "code",
   "execution_count": 13,
   "metadata": {},
   "outputs": [
    {
     "data": {
      "text/plain": [
       "2056"
      ]
     },
     "execution_count": 13,
     "metadata": {},
     "output_type": "execute_result"
    }
   ],
   "source": [
    "len(d)"
   ]
  },
  {
   "cell_type": "code",
   "execution_count": 14,
   "metadata": {},
   "outputs": [
    {
     "data": {
      "text/plain": [
       "{'metadata': {'activity name': 'AssembleCabinet',\n",
       "  'yt_id': '0dqx7VOjiJI',\n",
       "  'frame no.': '1572'},\n",
       " 'bboxes': {'0': {'class': 'generic_object', 'bbox': [35, 176, 1277, 343]},\n",
       "  '1': {'class': 'hand', 'bbox': [1113, 116, 1233, 181]},\n",
       "  '2': {'class': 'hand', 'bbox': [663, 81, 843, 176]}},\n",
       " 'relations': [[[2, 0],\n",
       "   {'scr': ['Contact'],\n",
       "    'lr': ['Below/Above'],\n",
       "    'mr': ['Negligible Relative Motion']}],\n",
       "  [[1, 0],\n",
       "   {'scr': ['Contact'],\n",
       "    'lr': ['Below/Above', 'Behind/Front'],\n",
       "    'mr': ['Holding', 'Adjusting']}]]}"
      ]
     },
     "execution_count": 14,
     "metadata": {},
     "output_type": "execute_result"
    }
   ],
   "source": [
    "d[0]"
   ]
  },
  {
   "cell_type": "code",
   "execution_count": null,
   "metadata": {},
   "outputs": [],
   "source": []
  }
 ],
 "metadata": {
  "interpreter": {
   "hash": "d4d1e4263499bec80672ea0156c357c1ee493ec2b1c70f0acce89fc37c4a6abe"
  },
  "kernelspec": {
   "display_name": "Python 3.8.10 ('base')",
   "language": "python",
   "name": "python3"
  },
  "language_info": {
   "codemirror_mode": {
    "name": "ipython",
    "version": 3
   },
   "file_extension": ".py",
   "mimetype": "text/x-python",
   "name": "python",
   "nbconvert_exporter": "python",
   "pygments_lexer": "ipython3",
   "version": "3.8.10"
  },
  "orig_nbformat": 4
 },
 "nbformat": 4,
 "nbformat_minor": 2
}
