{
 "cells": [
  {
   "cell_type": "code",
   "execution_count": 2,
   "metadata": {},
   "outputs": [],
   "source": [
    "from pytorchvideo.data.encoded_video import EncodedVideo\n",
    "\n",
    "def read_gif(gif_path):\n",
    "    \"\"\"read gif and return dictionary as key ['video'] and value the tensor of size(CxTxHXW)\"\"\"\n",
    "\n",
    "    video = EncodedVideo.from_path(gif_path)\n",
    "    video = video.get_clip(0, 5) # get_clip fetches the clip from starting time to ending time\n",
    "\n",
    "    return video"
   ]
  },
  {
   "cell_type": "code",
   "execution_count": 3,
   "metadata": {},
   "outputs": [],
   "source": [
    "gif_folder_path = '/workspace/data/data_folder/o2o/gifs_11'\n",
    "from glob import glob as glob\n",
    "\n",
    "gif_paths = glob(gif_folder_path + '/*.gif')"
   ]
  },
  {
   "cell_type": "code",
   "execution_count": 4,
   "metadata": {},
   "outputs": [
    {
     "name": "stderr",
     "output_type": "stream",
     "text": [
      "100%|██████████| 2056/2056 [05:06<00:00,  6.71it/s]\n"
     ]
    }
   ],
   "source": [
    "issues = {}\n",
    "issues['paths'] = []\n",
    "issues['exceptions'] = []\n",
    "\n",
    "from tqdm import tqdm as tqdm\n",
    "\n",
    "for gif in tqdm(gif_paths):\n",
    "    try:\n",
    "        read_gif(gif)\n",
    "    except Exception as e:\n",
    "        issues['paths'].append(gif)\n",
    "        issues['exceptions'].append(e)\n",
    "        "
   ]
  },
  {
   "cell_type": "code",
   "execution_count": 8,
   "metadata": {},
   "outputs": [],
   "source": [
    "def extract_gif(frame_index, yt_id, youtube_folder, output_folder, window_size):\n",
    "    \n",
    "    import cv2\n",
    "    import os\n",
    "    \n",
    "    video_loc = os.path.join(youtube_folder, yt_id + '.mp4')\n",
    "    vid = cv2.VideoCapture(video_loc)\n",
    "    \n",
    "    frame_count = int(vid.get(cv2.CAP_PROP_FRAME_COUNT))\n",
    "\n",
    "    initial = frame_index - window_size\n",
    "    final = frame_index + window_size\n",
    "\n",
    "    if initial<0 or final>=frame_count:\n",
    "        print(\"Issue for \", frame_index, \" \",yt_id)\n",
    "        return 0\n",
    "\n",
    "    frames = []\n",
    "\n",
    "    for i in range(frame_count):\n",
    "\n",
    "        success, frame = vid.read()\n",
    "        if i >= initial and i <= final and success:\n",
    "            rgb_frame = cv2.cvtColor(frame, cv2.COLOR_BGR2RGB)\n",
    "            frames.append(rgb_frame)\n",
    "\n",
    "    filename = yt_id + '_' + str(frame_index) + '_' + str(window_size) + '.gif'\n",
    "    saving_location = os.path.join(output_folder, filename)\n",
    "\n",
    "    import imageio\n",
    "    fps = 4\n",
    "    imageio.mimsave( saving_location, frames, fps=4)\n",
    "    del vid\n",
    "    return 1\n",
    "\n",
    "\n",
    "# frame_index, yt_id, youtube_folder, output_folder, window_size\n",
    "\n",
    "output_folder = '/workspace/data/data_folder/o2o/gifs_11'\n",
    "window_size = 5\n",
    "youtube_folder = '/workspace/data/data_folder/o2o/youtube2'\n",
    "\n",
    "\n",
    "for path in issues['paths']:\n",
    "    last_string = path.split('/')[-1]\n",
    "    last_string = last_string.split('.')[0]\n",
    "    yt_id, frame_index, _ = last_string.split('_')\n",
    "    extract_gif( int(frame_index), yt_id, youtube_folder, output_folder, window_size)\n",
    "    \n",
    "    "
   ]
  },
  {
   "cell_type": "code",
   "execution_count": null,
   "metadata": {},
   "outputs": [],
   "source": []
  }
 ],
 "metadata": {
  "kernelspec": {
   "display_name": "base",
   "language": "python",
   "name": "python3"
  },
  "language_info": {
   "codemirror_mode": {
    "name": "ipython",
    "version": 3
   },
   "file_extension": ".py",
   "mimetype": "text/x-python",
   "name": "python",
   "nbconvert_exporter": "python",
   "pygments_lexer": "ipython3",
   "version": "3.8.10"
  },
  "orig_nbformat": 4,
  "vscode": {
   "interpreter": {
    "hash": "d4d1e4263499bec80672ea0156c357c1ee493ec2b1c70f0acce89fc37c4a6abe"
   }
  }
 },
 "nbformat": 4,
 "nbformat_minor": 2
}
