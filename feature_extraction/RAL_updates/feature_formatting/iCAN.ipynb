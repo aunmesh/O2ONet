{
 "cells": [
  {
   "attachments": {},
   "cell_type": "markdown",
   "metadata": {},
   "source": [
    "Things to be done:\n",
    "1. Use the GPNN feature files.\n",
    "2. Format the GPNN feature files to include the bounding boxes, i3d features, 2d cnn features, geometric_feature,\n",
    "motion of the central frame only.\n",
    "3. "
   ]
  },
  {
   "cell_type": "code",
   "execution_count": null,
   "metadata": {},
   "outputs": [],
   "source": [
    "import numpy as np\n",
    "import torchvision\n",
    "import torch\n",
    "from copy import deepcopy as copy\n",
    "import os"
   ]
  },
  {
   "cell_type": "code",
   "execution_count": null,
   "metadata": {},
   "outputs": [],
   "source": [
    "def feature_formatter(gpnn_feature):\n",
    "    \n",
    "    new_feat = {}\n",
    "    req_keys = ['metadata', 'num_obj', 'bboxes', 'lr', 'mr', 'cr', 'object_pairs', \n",
    "                'num_relation', 'geometric_feature', 'object_2d_cnn_feature', 'iou', \n",
    "                'distance', 'relative_spatial_feature', 'object_i3d_feature', 'motion_feature']\n",
    "    "
   ]
  },
  {
   "cell_type": "code",
   "execution_count": null,
   "metadata": {},
   "outputs": [
    {
     "name": "stderr",
     "output_type": "stream",
     "text": [
      "100%|██████████| 2056/2056 [08:20<00:00,  4.10it/s]\n"
     ]
    }
   ],
   "source": [
    "from glob import glob\n",
    "\n",
    "gpnn_feature_file = '/workspace/data/data_folder/o2o/ral_features/formatted_features/gpnn/gpnn_feats.pkl'\n",
    "all_feature_files = glob( os.path.join(full_features_folder, '*.pt') )\n",
    "\n",
    "formatted_features = []\n",
    "from tqdm import tqdm as tqdm\n",
    "\n",
    "for f in tqdm(all_feature_files):\n",
    "    formatted_dict = feature_formatter(f)\n",
    "    formatted_features.append(formatted_dict)\n",
    "\n",
    "import pickle as pkl\n",
    "path = '/workspace/data/data_folder/o2o/ral_features/formatted_features/gpnn/gpnn_feats.pkl'\n",
    "f = open(path, 'wb')\n",
    "pkl.dump(formatted_features, f)\n",
    "f.close()"
   ]
  },
  {
   "cell_type": "code",
   "execution_count": 1,
   "metadata": {},
   "outputs": [],
   "source": [
    "f = '/workspace/data/data_folder/o2o/ral_features/formatted_features/gpnn/gpnn_feats.pkl'\n",
    "\n",
    "import pickle as pkl\n",
    "f_obj = open(f, 'rb')\n",
    "d = pkl.load(f_obj)"
   ]
  },
  {
   "cell_type": "code",
   "execution_count": 9,
   "metadata": {},
   "outputs": [
    {
     "data": {
      "text/plain": [
       "tensor([[ 867.,   81.,  973.,  598.],\n",
       "        [ 972.,  551., 1146.,  688.],\n",
       "        [ 601.,  246.,  679.,  364.]])"
      ]
     },
     "execution_count": 9,
     "metadata": {},
     "output_type": "execute_result"
    }
   ],
   "source": [
    "d[20]['bboxes'][:3,5,:]"
   ]
  },
  {
   "cell_type": "code",
   "execution_count": 11,
   "metadata": {},
   "outputs": [
    {
     "data": {
      "text/plain": [
       "dict_keys(['metadata', 'num_obj', 'bboxes', 'lr', 'mr', 'cr', 'object_pairs', 'num_relation', 'geometric_feature', 'object_2d_cnn_feature', 'iou', 'distance', 'relative_spatial_feature', 'object_i3d_feature', 'motion_feature'])"
      ]
     },
     "execution_count": 11,
     "metadata": {},
     "output_type": "execute_result"
    }
   ],
   "source": [
    "d[0].keys()"
   ]
  },
  {
   "cell_type": "code",
   "execution_count": 13,
   "metadata": {},
   "outputs": [
    {
     "data": {
      "text/plain": [
       "torch.Size([5, 12, 2048])"
      ]
     },
     "execution_count": 13,
     "metadata": {},
     "output_type": "execute_result"
    }
   ],
   "source": [
    "d[0]['object_i3d_feature'].shape"
   ]
  },
  {
   "cell_type": "code",
   "execution_count": 14,
   "metadata": {},
   "outputs": [
    {
     "data": {
      "text/plain": [
       "torch.Size([12, 11, 5])"
      ]
     },
     "execution_count": 14,
     "metadata": {},
     "output_type": "execute_result"
    }
   ],
   "source": [
    "d[20]['geometric_feature'].shape"
   ]
  },
  {
   "cell_type": "code",
   "execution_count": null,
   "metadata": {},
   "outputs": [],
   "source": []
  }
 ],
 "metadata": {
  "kernelspec": {
   "display_name": "base",
   "language": "python",
   "name": "python3"
  },
  "language_info": {
   "codemirror_mode": {
    "name": "ipython",
    "version": 3
   },
   "file_extension": ".py",
   "mimetype": "text/x-python",
   "name": "python",
   "nbconvert_exporter": "python",
   "pygments_lexer": "ipython3",
   "version": "3.8.10"
  },
  "orig_nbformat": 4,
  "vscode": {
   "interpreter": {
    "hash": "d4d1e4263499bec80672ea0156c357c1ee493ec2b1c70f0acce89fc37c4a6abe"
   }
  }
 },
 "nbformat": 4,
 "nbformat_minor": 2
}
