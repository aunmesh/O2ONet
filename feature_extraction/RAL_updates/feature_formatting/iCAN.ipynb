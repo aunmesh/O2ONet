{
 "cells": [
  {
   "attachments": {},
   "cell_type": "markdown",
   "metadata": {},
   "source": [
    "Things to be done:\n",
    "1. Use the GPNN feature files.\n",
    "2. Format the GPNN feature files to include the bounding boxes, i3d features, 2d cnn features, geometric_feature,\n",
    "motion of the central frame only.\n",
    "3. "
   ]
  },
  {
   "cell_type": "code",
   "execution_count": 12,
   "metadata": {},
   "outputs": [],
   "source": [
    "import numpy as np\n",
    "import torchvision\n",
    "import torch\n",
    "from copy import deepcopy as copy\n",
    "import os"
   ]
  },
  {
   "cell_type": "code",
   "execution_count": 13,
   "metadata": {},
   "outputs": [],
   "source": [
    "def feature_formatter(full_feature):\n",
    "\n",
    "    new_feat = {}\n",
    "    \n",
    "    new_feat['i3d_feature_map'] = full_feature['i3d_feature_map'][0, :, 2, :, :]\n",
    "    new_feat['2d_cnn_feature_map'] = full_feature['2d_cnn_feature_map'][ 5, :, :, :]\n",
    "    \n",
    "    new_feat['bboxes'] = full_feature['bboxes'][:, 5, :]\n",
    "    \n",
    "    req_keys = ['metadata', 'num_obj', 'lr', 'mr', 'cr', 'object_pairs', 'num_relation']\n",
    "    \n",
    "    for r in req_keys:\n",
    "      new_feat[r] = full_feature[r]\n",
    "    \n",
    "    del full_feature\n",
    "    return new_feat"
   ]
  },
  {
   "cell_type": "code",
   "execution_count": 14,
   "metadata": {},
   "outputs": [
    {
     "name": "stderr",
     "output_type": "stream",
     "text": [
      "100%|██████████| 2056/2056 [04:50<00:00,  7.07it/s]  \n"
     ]
    }
   ],
   "source": [
    "from glob import glob\n",
    "\n",
    "full_features_folder = '/workspace/data/data_folder/o2o/ral_features/full_features'\n",
    "all_feature_files = glob( os.path.join(full_features_folder, '*.pt') )\n",
    "\n",
    "from tqdm import tqdm as tqdm\n",
    "import torch\n",
    "\n",
    "num_all_features = len(all_feature_files)\n",
    "saving_dir = '/workspace/data/data_folder/o2o/ral_features/formatted_features/ican'\n",
    "\n",
    "for f in tqdm(all_feature_files):\n",
    "    \n",
    "    file_name = f.split('/')[-1]\n",
    "    saving_path = os.path.join(saving_dir, file_name)\n",
    "    \n",
    "    if os.path.exists(saving_path):\n",
    "        continue\n",
    "        \n",
    "    feature_dict = torch.load(f)\n",
    "    formatted_dict = feature_formatter(feature_dict)\n",
    "    torch.save(formatted_dict, saving_path)\n",
    "    \n",
    "\n",
    "    del feature_dict"
   ]
  },
  {
   "cell_type": "code",
   "execution_count": 9,
   "metadata": {},
   "outputs": [
    {
     "name": "stderr",
     "output_type": "stream",
     "text": [
      "100%|██████████| 1787/1787 [06:51<00:00,  4.34it/s]\n"
     ]
    }
   ],
   "source": [
    "from glob import glob\n",
    "import os\n",
    "\n",
    "full_features_folder = '/workspace/data/data_folder/o2o/ral_features/formatted_features/ican'\n",
    "all_feature_files = glob( os.path.join(full_features_folder, '*.pt') )\n",
    "\n",
    "from tqdm import tqdm as tqdm\n",
    "import torch\n",
    "\n",
    "issues = []\n",
    "\n",
    "for f in tqdm(all_feature_files):\n",
    "    feature_dict = torch.load(f)\n",
    "    if feature_dict['i3d_feature_map'].shape[1] != 23:\n",
    "        issues.append(f)\n",
    "        continue\n",
    "    if feature_dict['2d_cnn_feature_map'].shape[1] != 23:\n",
    "        issues.append(f)"
   ]
  }
 ],
 "metadata": {
  "kernelspec": {
   "display_name": "base",
   "language": "python",
   "name": "python3"
  },
  "language_info": {
   "codemirror_mode": {
    "name": "ipython",
    "version": 3
   },
   "file_extension": ".py",
   "mimetype": "text/x-python",
   "name": "python",
   "nbconvert_exporter": "python",
   "pygments_lexer": "ipython3",
   "version": "3.8.10"
  },
  "orig_nbformat": 4,
  "vscode": {
   "interpreter": {
    "hash": "d4d1e4263499bec80672ea0156c357c1ee493ec2b1c70f0acce89fc37c4a6abe"
   }
  }
 },
 "nbformat": 4,
 "nbformat_minor": 2
}
