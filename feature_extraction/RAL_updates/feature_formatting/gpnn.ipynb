{
 "cells": [
  {
   "attachments": {},
   "cell_type": "markdown",
   "metadata": {},
   "source": [
    "Formats the feature files in order to get the feature file required by GPNN.\n",
    "\n",
    "# Features required by GPNN\n",
    "dict_keys(['metadata', 'num_obj', 'lr', 'mr', 'cr', 'object_pairs', 'num_relation', 'i3d_feature_map', 'bboxes', 'cnn_bbox_feature'])\n",
    "\n",
    "Put all the features of all the files in one pickle file and then write additional code in the dataloader to separate the features according to test, train and val splits."
   ]
  },
  {
   "cell_type": "code",
   "execution_count": 2,
   "metadata": {},
   "outputs": [],
   "source": [
    "import numpy as np\n",
    "import torchvision\n",
    "import torch\n",
    "from copy import deepcopy as copy\n",
    "import os\n",
    "\n",
    "def feature_formatter( full_feature_filename ):\n",
    "\n",
    "    required_keys =  ['metadata', 'num_obj', 'bboxes', 'lr', 'mr', 'cr', 'object_pairs', 'num_relation', \n",
    "                      'geometric_feature', 'object_2d_cnn_feature', 'iou', 'distance', \n",
    "                      'relative_spatial_feature', 'object_i3d_feature', 'motion_feature']\n",
    "\n",
    "    full_feature = torch.load(full_feature_filename)\n",
    "\n",
    "    new_dict = {}\n",
    "\n",
    "    for r in required_keys:\n",
    "        new_dict[r] = copy(full_feature[r])\n",
    "\n",
    "    return new_dict"
   ]
  },
  {
   "cell_type": "code",
   "execution_count": 3,
   "metadata": {},
   "outputs": [
    {
     "name": "stderr",
     "output_type": "stream",
     "text": [
      "100%|██████████| 2056/2056 [08:20<00:00,  4.10it/s]\n"
     ]
    }
   ],
   "source": [
    "from glob import glob\n",
    "\n",
    "full_features_folder = '/workspace/data/data_folder/o2o/ral_features/full_features'\n",
    "all_feature_files = glob( os.path.join(full_features_folder, '*.pt') )\n",
    "\n",
    "formatted_features = []\n",
    "from tqdm import tqdm as tqdm\n",
    "\n",
    "for f in tqdm(all_feature_files):\n",
    "    formatted_dict = feature_formatter(f)\n",
    "    formatted_features.append(formatted_dict)\n",
    "\n",
    "import pickle as pkl\n",
    "path = '/workspace/data/data_folder/o2o/ral_features/formatted_features/gpnn/gpnn_feats.pkl'\n",
    "f = open(path, 'wb')\n",
    "pkl.dump(formatted_features, f)\n",
    "f.close()"
   ]
  },
  {
   "cell_type": "code",
   "execution_count": null,
   "metadata": {},
   "outputs": [],
   "source": []
  },
  {
   "cell_type": "code",
   "execution_count": 7,
   "metadata": {},
   "outputs": [
    {
     "data": {
      "text/plain": [
       "dict_keys(['legend', 'metadata', 'num_obj', 'bboxes', 'lr', 'mr', 'cr', 'object_pairs', 'num_relation', 'geometric_feature', '2d_cnn_feature_map', 'object_2d_cnn_feature', 'iou', 'distance', 'relative_spatial_feature', 'i3d_feature_map', 'object_i3d_feature', 'motion_feature'])"
      ]
     },
     "execution_count": 7,
     "metadata": {},
     "output_type": "execute_result"
    }
   ],
   "source": [
    "sample = '/workspace/data/data_folder/o2o/ral_features/full_features/_1_dgZ4-Ldw_2432_5.pt'\n",
    "\n",
    "import torch\n",
    "\n",
    "data = torch.load(sample)\n",
    "data.keys()"
   ]
  },
  {
   "cell_type": "code",
   "execution_count": 4,
   "metadata": {},
   "outputs": [],
   "source": [
    "f = '/workspace/data/data_folder/o2o/ral_features/formatted_features/gpnn/gpnn_feats.pkl'\n",
    "\n",
    "import pickle as pkl\n",
    "f_obj = open(f, 'rb')\n",
    "d = pkl.load(f_obj)"
   ]
  },
  {
   "cell_type": "code",
   "execution_count": 6,
   "metadata": {},
   "outputs": [
    {
     "data": {
      "text/plain": [
       "dict_keys(['metadata', 'num_obj', 'bboxes', 'lr', 'mr', 'cr', 'object_pairs', 'num_relation', 'geometric_feature', 'object_2d_cnn_feature', 'iou', 'distance', 'relative_spatial_feature', 'object_i3d_feature', 'motion_feature'])"
      ]
     },
     "execution_count": 6,
     "metadata": {},
     "output_type": "execute_result"
    }
   ],
   "source": [
    "d[0].keys()"
   ]
  },
  {
   "cell_type": "code",
   "execution_count": 14,
   "metadata": {},
   "outputs": [
    {
     "ename": "AttributeError",
     "evalue": "'str' object has no attribute 'close'",
     "output_type": "error",
     "traceback": [
      "\u001b[0;31m---------------------------------------------------------------------------\u001b[0m",
      "\u001b[0;31mAttributeError\u001b[0m                            Traceback (most recent call last)",
      "\u001b[0;32m/tmp/ipykernel_265365/4000743260.py\u001b[0m in \u001b[0;36m<module>\u001b[0;34m\u001b[0m\n\u001b[0;32m----> 1\u001b[0;31m \u001b[0mf\u001b[0m\u001b[0;34m.\u001b[0m\u001b[0mclose\u001b[0m\u001b[0;34m(\u001b[0m\u001b[0;34m)\u001b[0m\u001b[0;34m\u001b[0m\u001b[0;34m\u001b[0m\u001b[0m\n\u001b[0m",
      "\u001b[0;31mAttributeError\u001b[0m: 'str' object has no attribute 'close'"
     ]
    }
   ],
   "source": [
    "f.close()"
   ]
  },
  {
   "cell_type": "code",
   "execution_count": null,
   "metadata": {},
   "outputs": [],
   "source": []
  }
 ],
 "metadata": {
  "kernelspec": {
   "display_name": "base",
   "language": "python",
   "name": "python3"
  },
  "language_info": {
   "codemirror_mode": {
    "name": "ipython",
    "version": 3
   },
   "file_extension": ".py",
   "mimetype": "text/x-python",
   "name": "python",
   "nbconvert_exporter": "python",
   "pygments_lexer": "ipython3",
   "version": "3.8.10"
  },
  "orig_nbformat": 4,
  "vscode": {
   "interpreter": {
    "hash": "d4d1e4263499bec80672ea0156c357c1ee493ec2b1c70f0acce89fc37c4a6abe"
   }
  }
 },
 "nbformat": 4,
 "nbformat_minor": 2
}
